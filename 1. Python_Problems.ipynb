{
 "cells": [
  {
   "cell_type": "raw",
   "id": "6fd10d50-69aa-49b1-ada8-3cbb273c5c45",
   "metadata": {},
   "source": [
    "Basic python programming\n",
    "Python is a popular programming language created by Guido van Rosssum in the year 1991. It is used for web development, Software Development , Mathematics and System Scripting "
   ]
  },
  {
   "cell_type": "code",
   "execution_count": 4,
   "id": "aea2f021-b852-43f1-9e6e-7147779a9698",
   "metadata": {},
   "outputs": [
    {
     "name": "stdout",
     "output_type": "stream",
     "text": [
      "Welcome to python programming\n"
     ]
    }
   ],
   "source": [
    "print(\"Welcome to python programming\")"
   ]
  },
  {
   "cell_type": "code",
   "execution_count": 11,
   "id": "2a7339f6-9bbe-4960-9f65-b16766592951",
   "metadata": {},
   "outputs": [
    {
     "name": "stdin",
     "output_type": "stream",
     "text": [
      "Enter a number: 6\n"
     ]
    },
    {
     "name": "stdout",
     "output_type": "stream",
     "text": [
      "The number is greater than 5 and the user input number is 6\n",
      "Hi programmer !!\n"
     ]
    }
   ],
   "source": [
    "# Basic Program\n",
    "i = int(input(\"Enter a number:\"))\n",
    "if i>5:\n",
    "    print(\"The number is greater than 5 and the user input number is\",i)\n",
    "    print(\"Hi programmer !!\")\n",
    "else:\n",
    "    print(\"The number is smaller than 5 and the user input number is\",i)"
   ]
  },
  {
   "cell_type": "code",
   "execution_count": 13,
   "id": "f89e02ff-48ed-45dd-8576-540ead842c68",
   "metadata": {},
   "outputs": [
    {
     "name": "stdout",
     "output_type": "stream",
     "text": [
      " Hello world\n"
     ]
    }
   ],
   "source": [
    "# this is a python comment\n",
    "\"\"\"\n",
    "This is also a python comment coloumn \n",
    "which we use by this symbol\n",
    "\"\"\"\n",
    "print(' Hello world')"
   ]
  },
  {
   "cell_type": "code",
   "execution_count": 117,
   "id": "0276bfc9-4bb6-4f29-a573-0448608fc6ae",
   "metadata": {},
   "outputs": [
    {
     "name": "stdout",
     "output_type": "stream",
     "text": [
      "5\n",
      "This is capital X\n",
      "Test Python\n",
      "5 Test Python\n",
      "5 Test Python\n"
     ]
    }
   ],
   "source": [
    "# python variables\n",
    "x=5\n",
    "y=\"Test Python\"\n",
    "X=\"This is capital X\"\n",
    "print(x)\n",
    "print(X)\n",
    "print(y)\n",
    "print(str(x) +\" \"+ y)\n",
    "print(x,y)"
   ]
  },
  {
   "cell_type": "code",
   "execution_count": 29,
   "id": "6d4016f6-fd88-4867-a3b5-c86eb708e8fa",
   "metadata": {},
   "outputs": [
    {
     "name": "stdout",
     "output_type": "stream",
     "text": [
      "INDIA\n",
      "AMERICA\n",
      "JAPAN\n",
      "INDIA AMERICA JAPAN\n",
      "Apple\n"
     ]
    }
   ],
   "source": [
    "# assign multiple values at once\n",
    "x,y,z =\"INDIA\",\"AMERICA\",\"JAPAN\"\n",
    "print(x)\n",
    "print(y)\n",
    "print(z)\n",
    "print(x,y,z)\n",
    "\n",
    "a=b=c='Apple'\n",
    "print(c)"
   ]
  },
  {
   "cell_type": "code",
   "execution_count": 33,
   "id": "da69f380-dcb6-4617-9278-3ffa6e4fb40e",
   "metadata": {},
   "outputs": [
    {
     "name": "stdout",
     "output_type": "stream",
     "text": [
      "Grapes\n"
     ]
    }
   ],
   "source": [
    "#unpack a collection \n",
    "fruits =[\"Apple\",\"Mango\",'Grapes']\n",
    "l,m,n=fruits\n",
    "print(n)"
   ]
  },
  {
   "cell_type": "code",
   "execution_count": 39,
   "id": "d7c02d9f-e997-4a9d-bb19-9e91f7d05895",
   "metadata": {},
   "outputs": [
    {
     "name": "stdout",
     "output_type": "stream",
     "text": [
      "Welcome to Python Programming\n",
      "Welcome to Python\n"
     ]
    }
   ],
   "source": [
    "x=\"Welcome to Python\"\n",
    "def function():\n",
    "    print(x+\" Programming\")\n",
    "function()\n",
    "print(x)"
   ]
  },
  {
   "cell_type": "code",
   "execution_count": 40,
   "id": "8107efc1-e785-4161-b9ef-0f5953a26c0a",
   "metadata": {},
   "outputs": [
    {
     "name": "stdout",
     "output_type": "stream",
     "text": [
      "This is python Programming\n",
      "Welcome to Python\n"
     ]
    }
   ],
   "source": [
    "x=\"Welcome to Python\"\n",
    "def function():\n",
    "    x=\"This is python\"\n",
    "    print(x+\" Programming\")\n",
    "function()\n",
    "print(x)"
   ]
  },
  {
   "cell_type": "code",
   "execution_count": 42,
   "id": "0130b146-8429-4b3a-93ba-e4628e8a0563",
   "metadata": {},
   "outputs": [
    {
     "name": "stdout",
     "output_type": "stream",
     "text": [
      "This is Python Programming\n",
      "This is Python\n"
     ]
    }
   ],
   "source": [
    "x=\"Welcome to Python\"\n",
    "def function():\n",
    "    global x\n",
    "    x=\"This is Python\"\n",
    "    print(x+\" Programming\")\n",
    "function()\n",
    "print(x)"
   ]
  },
  {
   "cell_type": "code",
   "execution_count": 49,
   "id": "62c52780-92e0-4898-a933-2dc80b13979b",
   "metadata": {},
   "outputs": [
    {
     "name": "stdout",
     "output_type": "stream",
     "text": [
      "<class 'int'>\n",
      "<class 'str'>\n",
      "<class 'float'>\n"
     ]
    }
   ],
   "source": [
    "x=5\n",
    "print(type(x))\n",
    "y=\"Ganesh\"\n",
    "print(type(y))\n",
    "z=4.5\n",
    "print(type(z))"
   ]
  },
  {
   "cell_type": "code",
   "execution_count": 60,
   "id": "0e554e48-2354-4c71-9dcd-c5813ef9c2b0",
   "metadata": {},
   "outputs": [
    {
     "name": "stdout",
     "output_type": "stream",
     "text": [
      "10\n",
      "1\n"
     ]
    }
   ],
   "source": [
    "# to generate random number in python\n",
    "import random\n",
    "a= random.randint(1,10)\n",
    "b= random.randrange(1,10,2)\n",
    "print(a)\n",
    "print(b)"
   ]
  },
  {
   "cell_type": "code",
   "execution_count": 76,
   "id": "c1099fc9-39e1-4f36-b78d-1c32a63c197e",
   "metadata": {
    "scrolled": true
   },
   "outputs": [
    {
     "name": "stdout",
     "output_type": "stream",
     "text": [
      "Hello,world!\n",
      "e\n",
      "llo\n",
      "orl\n",
      "H\n",
      "e\n",
      "l\n",
      "l\n",
      "o\n",
      ",\n",
      "w\n",
      "o\n",
      "r\n",
      "l\n",
      "d\n",
      "!\n"
     ]
    }
   ],
   "source": [
    "# String vs Array\n",
    "\n",
    "a=\"Hello,world!\"\n",
    "print(a)\n",
    "print(a[1])\n",
    "print(a[2:5])\n",
    "print(a[-5:-2])\n",
    "for i in a:\n",
    "    print(i)"
   ]
  },
  {
   "cell_type": "code",
   "execution_count": 74,
   "id": "a920193e-7d59-4a90-ac86-3fbad4780df2",
   "metadata": {},
   "outputs": [
    {
     "name": "stdout",
     "output_type": "stream",
     "text": [
      "Yes\n",
      "True\n"
     ]
    }
   ],
   "source": [
    "# check string in a corpus\n",
    "a=\"This is example sentence\"\n",
    "if \"sen\" in a:\n",
    "    print('Yes')\n",
    "else:\n",
    "    print(\"no\")\n",
    "\n",
    "print('sn' not in a)"
   ]
  },
  {
   "cell_type": "code",
   "execution_count": 81,
   "id": "05ad8af9-43af-4f2c-ad91-97630ac4ec57",
   "metadata": {},
   "outputs": [
    {
     "name": "stdout",
     "output_type": "stream",
     "text": [
      "WELCOME GUEST! \n",
      "welcome guest! \n",
      "Welcome Guest!\n",
      "Jelcome Guest! \n"
     ]
    }
   ],
   "source": [
    "#modify string\n",
    "a=\"Welcome Guest! \"\n",
    "print(a.upper())\n",
    "print(a.lower())\n",
    "print(a.strip())\n",
    "print(a.replace(\"W\",\"J\"))"
   ]
  },
  {
   "cell_type": "code",
   "execution_count": 105,
   "id": "0f7b8cc7-3115-4669-a3f9-2d9a99106de6",
   "metadata": {},
   "outputs": [
    {
     "name": "stdout",
     "output_type": "stream",
     "text": [
      "My name is John and my age is 36\n",
      "My name is John and my age is 36\n",
      "My name is John and my age is 36\n"
     ]
    }
   ],
   "source": [
    "# format strings\n",
    "age =36\n",
    "name=\"John\"\n",
    "txt2 =\"My name is John and my age is \"+ str(age)\n",
    "txt =\"My name is John and my age is {}\"\n",
    "txt1 =\"My name is {1} and my age is {0}\"\n",
    "print(txt.format(age))\n",
    "print(txt1.format(age,name))\n",
    "print(txt2)"
   ]
  },
  {
   "cell_type": "code",
   "execution_count": 107,
   "id": "0d280c4d-a95d-4f85-850d-52e0526a8656",
   "metadata": {},
   "outputs": [
    {
     "name": "stdout",
     "output_type": "stream",
     "text": [
      "True\n",
      "False\n",
      "False\n"
     ]
    }
   ],
   "source": [
    "# boolean statements check\n",
    "print(10>9)\n",
    "print(10==9)\n",
    "print(10<9)"
   ]
  },
  {
   "cell_type": "raw",
   "id": "c0602181-8044-4f34-8d63-c0aae49160b4",
   "metadata": {},
   "source": [
    "Lists in Python"
   ]
  },
  {
   "cell_type": "code",
   "execution_count": 142,
   "id": "e90ebfc5-cf4f-4c75-809f-6f75df1569b1",
   "metadata": {},
   "outputs": [
    {
     "name": "stdout",
     "output_type": "stream",
     "text": [
      "['apple', 'banana', 'grapes']\n",
      "apple\n",
      "banana\n",
      "grapes\n",
      "Accesss 2nd element in list: banana\n",
      "['apple', 'cherry', 'grapes']\n",
      "3\n",
      "['apple', 'ginger', 'cherry', 'grapes', 'onion']\n",
      "[1, 2, 3]\n",
      "['apple', 'ginger', 'cherry', 'grapes', 'onion', 1, 2, 3]\n",
      "['apple', 'ginger', 'cherry', 'grapes', 'onion', 1, 2, 3]\n",
      "['apple', 'ginger', 'grapes', 1, 2, 3]\n"
     ]
    }
   ],
   "source": [
    "my_list=[\"apple\",\"banana\",'grapes']\n",
    "print(my_list)\n",
    "for i in my_list:\n",
    "    print(i)\n",
    "print(\"Accesss 2nd element in list:\",my_list[1])\n",
    "my_list[1]=\"cherry\"\n",
    "print(my_list)\n",
    "print(len(my_list))\n",
    "# insert element\n",
    "my_list.insert(1,\"ginger\")\n",
    "my_list.append('onion')\n",
    "print(my_list)\n",
    "#list constructor\n",
    "thislist=list((1,2,3))\n",
    "print(thislist)\n",
    "print(my_list+thislist)\n",
    "my_list.extend(thislist)\n",
    "print(my_list)\n",
    "my_list.remove(\"onion\")\n",
    "my_list.pop(2)\n",
    "print(my_list)"
   ]
  },
  {
   "cell_type": "code",
   "execution_count": 143,
   "id": "e74b737c-9328-466a-8238-c08825ef4236",
   "metadata": {},
   "outputs": [],
   "source": [
    "del thislist"
   ]
  },
  {
   "cell_type": "code",
   "execution_count": 146,
   "id": "bbe76870-97fe-4903-8e49-5201741a2792",
   "metadata": {},
   "outputs": [
    {
     "name": "stdout",
     "output_type": "stream",
     "text": [
      "apple\n",
      "ginger\n",
      "grapes\n",
      "1\n",
      "2\n",
      "3\n"
     ]
    }
   ],
   "source": [
    "for i in range(len(my_list)):\n",
    "    print(my_list[i])"
   ]
  },
  {
   "cell_type": "code",
   "execution_count": 147,
   "id": "750c7b25-9443-40b2-af99-67a405bd1af5",
   "metadata": {},
   "outputs": [
    {
     "name": "stdout",
     "output_type": "stream",
     "text": [
      "apple\n",
      "ginger\n",
      "grapes\n",
      "1\n",
      "2\n",
      "3\n"
     ]
    }
   ],
   "source": [
    "i=0\n",
    "while i<len(my_list):\n",
    "    print(my_list[i])\n",
    "    i=i+1"
   ]
  },
  {
   "cell_type": "code",
   "execution_count": 148,
   "id": "cd96904a-e291-4761-a180-374d34840a5a",
   "metadata": {},
   "outputs": [
    {
     "name": "stdout",
     "output_type": "stream",
     "text": [
      "apple\n",
      "ginger\n",
      "grapes\n",
      "1\n",
      "2\n",
      "3\n"
     ]
    },
    {
     "data": {
      "text/plain": [
       "[None, None, None, None, None, None]"
      ]
     },
     "execution_count": 148,
     "metadata": {},
     "output_type": "execute_result"
    }
   ],
   "source": [
    "[print(x) for x in my_list]"
   ]
  },
  {
   "cell_type": "code",
   "execution_count": 150,
   "id": "8bba0b80-24cc-4b4f-9497-eab274308548",
   "metadata": {},
   "outputs": [
    {
     "name": "stdout",
     "output_type": "stream",
     "text": [
      "['ab', 'ca']\n"
     ]
    }
   ],
   "source": [
    "my_list1=[\"ab\",\"bc\",'ca']\n",
    "new_list=[]\n",
    "for x in my_list1:\n",
    "    if 'a' in x:\n",
    "        new_list.append(x)\n",
    "print(new_list)"
   ]
  },
  {
   "cell_type": "code",
   "execution_count": 157,
   "id": "02c7fa01-3825-46db-a1ec-6dd8baeeb330",
   "metadata": {},
   "outputs": [
    {
     "name": "stdout",
     "output_type": "stream",
     "text": [
      "['ab', 'ca']\n",
      "['ca', 'bc', 'ab']\n"
     ]
    }
   ],
   "source": [
    "a=[ x for x in my_list1 if 'a' in x ]\n",
    "print(a)\n",
    "my_list1.sort(reverse=True)\n",
    "print(my_list1)"
   ]
  },
  {
   "cell_type": "raw",
   "id": "f5548852-503f-4a33-a937-ef26b8a20c23",
   "metadata": {},
   "source": [
    "Tuple in Python"
   ]
  },
  {
   "cell_type": "code",
   "execution_count": 164,
   "id": "1048cf1d-e798-40e3-968e-fb40c9e081d3",
   "metadata": {},
   "outputs": [
    {
     "name": "stdout",
     "output_type": "stream",
     "text": [
      "('apple', 'banana', 'kiwi', 'apple')\n",
      "('apple',)\n",
      "<class 'tuple'>\n",
      "(1, 2, 3, 4)\n",
      "2\n",
      "Apple is present\n"
     ]
    }
   ],
   "source": [
    "this_tuple=(\"apple\",'banana',\"kiwi\",'apple')\n",
    "print(this_tuple)\n",
    "this_tup=(\"apple\",)\n",
    "print(this_tup)\n",
    "print(type(this_tup))\n",
    "\n",
    "# tuple constructor\n",
    "\n",
    "tuple1=tuple((1,2,3,4))\n",
    "print(tuple1)\n",
    "print(tuple1[1])\n",
    "if \"apple\" in this_tuple:\n",
    "    print('Apple is present')"
   ]
  },
  {
   "cell_type": "code",
   "execution_count": 165,
   "id": "83cdc135-4850-4adf-aa29-95a0fa12602a",
   "metadata": {},
   "outputs": [
    {
     "name": "stdout",
     "output_type": "stream",
     "text": [
      "('apple', 'kiwi', 'kiwi', 'apple')\n"
     ]
    }
   ],
   "source": [
    "# change elemt in tuple\n",
    "a=list(this_tuple)\n",
    "a[1]=\"kiwi\"\n",
    "this_tuple= tuple(a)\n",
    "print(this_tuple)"
   ]
  },
  {
   "cell_type": "code",
   "execution_count": 166,
   "id": "0a6e87fc-a888-4071-814f-d3e4cc42b6ae",
   "metadata": {},
   "outputs": [
    {
     "name": "stdout",
     "output_type": "stream",
     "text": [
      "['cherry', 'rashberry']\n"
     ]
    }
   ],
   "source": [
    "fruits=(\"apple\",'banana','cherry','rashberry')\n",
    "a,b,*c=fruits\n",
    "print(c)"
   ]
  },
  {
   "cell_type": "code",
   "execution_count": 167,
   "id": "f47d007b-f779-4b55-a6c5-12dbfa21cb65",
   "metadata": {},
   "outputs": [
    {
     "name": "stdout",
     "output_type": "stream",
     "text": [
      "apple\n",
      "banana\n",
      "cherry\n",
      "rashberry\n"
     ]
    }
   ],
   "source": [
    "for i in range(len(fruits)):\n",
    "    print(fruits[i])"
   ]
  },
  {
   "cell_type": "code",
   "execution_count": 168,
   "id": "bd793564-bf06-4a35-8776-c6a5c2a8599a",
   "metadata": {},
   "outputs": [
    {
     "name": "stdout",
     "output_type": "stream",
     "text": [
      "apple\n",
      "banana\n",
      "cherry\n",
      "rashberry\n"
     ]
    }
   ],
   "source": [
    "i=0\n",
    "while i < len(fruits):\n",
    "    print(fruits[i])\n",
    "    i=i+1"
   ]
  },
  {
   "cell_type": "raw",
   "id": "cf448088-4a91-49aa-a39a-5bf19cb91313",
   "metadata": {},
   "source": [
    "Set in python"
   ]
  },
  {
   "cell_type": "code",
   "execution_count": 171,
   "id": "a12a247d-1c46-44c5-a65b-f7f777dd7206",
   "metadata": {},
   "outputs": [
    {
     "name": "stdout",
     "output_type": "stream",
     "text": [
      "{1, 2, 'apple', 'kiwi', 'banana'}\n",
      "5\n"
     ]
    }
   ],
   "source": [
    "this_set={\"apple\",'banana',\"kiwi\",\"apple\",1,2}\n",
    "print(this_set)\n",
    "print(len(this_set))"
   ]
  },
  {
   "cell_type": "code",
   "execution_count": 172,
   "id": "7a179abc-8f84-4c9e-9be4-0f1adc931388",
   "metadata": {},
   "outputs": [
    {
     "name": "stdout",
     "output_type": "stream",
     "text": [
      "{'apple', 'banana', 'kiwi'}\n"
     ]
    }
   ],
   "source": [
    "# set constructor\n",
    "thisset=set((\"apple\",\"banana\",\"kiwi\"))\n",
    "print(thisset)"
   ]
  },
  {
   "cell_type": "code",
   "execution_count": 177,
   "id": "824ea818-a04c-4174-ba76-725328665537",
   "metadata": {},
   "outputs": [
    {
     "name": "stdout",
     "output_type": "stream",
     "text": [
      "1\n",
      "2\n",
      "3\n",
      "False\n",
      "{1, 2, 3, 'apple'}\n"
     ]
    }
   ],
   "source": [
    "for x in thisset:\n",
    "    print(x)\n",
    "print(\"banana\" in thisset)\n",
    "tropical = {1,2,3,\"apple\"}\n",
    "thisset.update(tropical)\n",
    "print(thisset)"
   ]
  },
  {
   "cell_type": "code",
   "execution_count": 182,
   "id": "1c7cbd9f-2de8-44f9-95ef-2ff9c3b48ef8",
   "metadata": {},
   "outputs": [
    {
     "name": "stdout",
     "output_type": "stream",
     "text": [
      "set()\n",
      "set()\n"
     ]
    }
   ],
   "source": [
    "thisset.intersection_update(tropical)\n",
    "print(thisset)\n",
    "thisset.intersection(tropical)\n",
    "print(thisset)\n"
   ]
  },
  {
   "cell_type": "code",
   "execution_count": 183,
   "id": "be80a592-6c24-4b19-bbf3-d61858be52d9",
   "metadata": {},
   "outputs": [
    {
     "name": "stdout",
     "output_type": "stream",
     "text": [
      "{'apple', 1, 2, 3}\n"
     ]
    }
   ],
   "source": [
    "thisset.symmetric_difference_update(tropical)\n",
    "print(thisset)"
   ]
  },
  {
   "cell_type": "code",
   "execution_count": 184,
   "id": "9c7f92e2-8fec-4799-9de0-898e014a0ee4",
   "metadata": {},
   "outputs": [
    {
     "name": "stdout",
     "output_type": "stream",
     "text": [
      "{'apple', 1, 2, 3}\n"
     ]
    }
   ],
   "source": [
    "thisset.symmetric_difference(tropical)\n",
    "print(thisset)"
   ]
  },
  {
   "cell_type": "raw",
   "id": "4b45a1bb-642c-4acc-a206-934e05d8aee2",
   "metadata": {},
   "source": [
    "Dictionaries in Python"
   ]
  },
  {
   "cell_type": "code",
   "execution_count": 191,
   "id": "987ea600-4aa6-4631-ae4a-6f6b03d16abd",
   "metadata": {},
   "outputs": [
    {
     "name": "stdout",
     "output_type": "stream",
     "text": [
      "{'brand': 'Ford', 'color': ['red', 'white', 'yellow'], 'year': 2021}\n"
     ]
    }
   ],
   "source": [
    "this_dict = {\n",
    "    \"brand\":\"Ford\",\n",
    "    \"color\":[\"red\",\"white\",'yellow'],\n",
    "    \"year\":2020,\n",
    "    \"year\":2021\n",
    "}\n",
    "print(this_dict)"
   ]
  },
  {
   "cell_type": "code",
   "execution_count": 192,
   "id": "93957b2e-67c6-4237-b1c2-36be051216ec",
   "metadata": {},
   "outputs": [
    {
     "name": "stdout",
     "output_type": "stream",
     "text": [
      "Ford\n"
     ]
    }
   ],
   "source": [
    "print(this_dict['brand'])"
   ]
  },
  {
   "cell_type": "code",
   "execution_count": 200,
   "id": "8ae3b1d5-44fa-439b-96f4-ec1f88e91df0",
   "metadata": {},
   "outputs": [
    {
     "name": "stdout",
     "output_type": "stream",
     "text": [
      "{'brand': 'BMW', 'color': ['red', 'white', 'yellow'], 'year': 2021}\n",
      "2021\n",
      "dict_keys(['brand', 'color', 'year'])\n",
      "dict_values(['BMW', ['red', 'white', 'yellow'], 2021])\n"
     ]
    }
   ],
   "source": [
    "this_dict['brand'] =\"BMW\"\n",
    "print(this_dict)\n",
    "x = this_dict.get(\"year\")\n",
    "print(x)\n",
    "y=this_dict.keys()\n",
    "print(y)\n",
    "z=this_dict.values()\n",
    "print(z)"
   ]
  },
  {
   "cell_type": "code",
   "execution_count": 198,
   "id": "aa46a5ae-189e-4b21-b220-3379c838e2af",
   "metadata": {},
   "outputs": [
    {
     "data": {
      "text/plain": [
       "{'name': 'john', 'age': 23, 'country': 'india'}"
      ]
     },
     "execution_count": 198,
     "metadata": {},
     "output_type": "execute_result"
    }
   ],
   "source": [
    "# dict constructor\n",
    "this_dic =dict(name=\"john\",age=23,country=\"india\")\n",
    "this_dic"
   ]
  },
  {
   "cell_type": "code",
   "execution_count": 201,
   "id": "64855240-ded2-4f48-b123-1efea1660108",
   "metadata": {},
   "outputs": [
    {
     "name": "stdout",
     "output_type": "stream",
     "text": [
      "{'brand': 'BMW', 'color': ['red', 'white', 'yellow'], 'year': 2021, 'age': 25}\n"
     ]
    }
   ],
   "source": [
    "this_dict.update({\"age\":25})\n",
    "print(this_dict)"
   ]
  },
  {
   "cell_type": "code",
   "execution_count": 208,
   "id": "6fc8b047-2911-4883-80fd-9ed01de4a94a",
   "metadata": {},
   "outputs": [
    {
     "name": "stdout",
     "output_type": "stream",
     "text": [
      "brand\n",
      "color\n",
      "year\n",
      "age\n",
      "BMW\n",
      "['red', 'white', 'yellow']\n",
      "2021\n",
      "25\n",
      "BMW\n",
      "['red', 'white', 'yellow']\n",
      "2021\n",
      "25\n"
     ]
    }
   ],
   "source": [
    "for x in this_dict:\n",
    "    print(x)\n",
    "for y in this_dict:\n",
    "    print(this_dict[y])\n",
    "for z in this_dict.values():\n",
    "    print(z)"
   ]
  },
  {
   "cell_type": "code",
   "execution_count": 209,
   "id": "23f46b71-048d-4fa7-8313-11671f7df113",
   "metadata": {},
   "outputs": [
    {
     "name": "stdout",
     "output_type": "stream",
     "text": [
      "brand BMW\n",
      "color ['red', 'white', 'yellow']\n",
      "year 2021\n",
      "age 25\n"
     ]
    }
   ],
   "source": [
    "for x ,y in this_dict.items():\n",
    "    print(x,y)"
   ]
  },
  {
   "cell_type": "code",
   "execution_count": 211,
   "id": "c6c88472-61bd-4ec5-b458-0025f2356afe",
   "metadata": {},
   "outputs": [
    {
     "name": "stdout",
     "output_type": "stream",
     "text": [
      "{'child1': {'brand': 'BMW', 'color': ['red', 'white', 'yellow'], 'year': 2021, 'age': 25}, 'child2': {'name': 'john', 'age': 23, 'country': 'india'}}\n"
     ]
    }
   ],
   "source": [
    "my_family ={\n",
    "    \"child1\":this_dict,\n",
    "    'child2':this_dic\n",
    "}\n",
    "print(my_family)"
   ]
  },
  {
   "cell_type": "code",
   "execution_count": null,
   "id": "a2c361c8-eeb9-4d12-b401-d04b29e1d62b",
   "metadata": {},
   "outputs": [],
   "source": []
  }
 ],
 "metadata": {
  "kernelspec": {
   "display_name": "Python 3 (ipykernel)",
   "language": "python",
   "name": "python3"
  },
  "language_info": {
   "codemirror_mode": {
    "name": "ipython",
    "version": 3
   },
   "file_extension": ".py",
   "mimetype": "text/x-python",
   "name": "python",
   "nbconvert_exporter": "python",
   "pygments_lexer": "ipython3",
   "version": "3.8.10"
  }
 },
 "nbformat": 4,
 "nbformat_minor": 5
}
