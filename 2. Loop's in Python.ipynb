{
 "cells": [
  {
   "cell_type": "code",
   "execution_count": 1,
   "id": "27860455-ac9d-46e0-bca4-0916cf7a0c44",
   "metadata": {},
   "outputs": [
    {
     "name": "stdout",
     "output_type": "stream",
     "text": [
      "hello\n"
     ]
    }
   ],
   "source": [
    "print('hello')"
   ]
  },
  {
   "cell_type": "code",
   "execution_count": 11,
   "id": "c30a618b-20ff-4cc3-9ec7-38dfd02d5370",
   "metadata": {},
   "outputs": [
    {
     "name": "stdin",
     "output_type": "stream",
     "text": [
      "Enter a input: 4\n",
      "Enter b input: 5\n"
     ]
    },
    {
     "name": "stdout",
     "output_type": "stream",
     "text": [
      "b is greater\n"
     ]
    }
   ],
   "source": [
    "#if loop in python\n",
    "a=int(input('Enter a input:'))\n",
    "b=int(input('Enter b input:'))\n",
    "if b>a:\n",
    "    print(\"b is greater\")\n",
    "elif b<a:\n",
    "    print(\"b is smaller\")\n",
    "else:\n",
    "    print(\"both are equal\")"
   ]
  },
  {
   "cell_type": "code",
   "execution_count": 12,
   "id": "3f8714fc-3ff0-4c1f-91cf-8014b8104fe7",
   "metadata": {},
   "outputs": [
    {
     "name": "stdout",
     "output_type": "stream",
     "text": [
      "A\n"
     ]
    }
   ],
   "source": [
    "a=10\n",
    "b=5\n",
    "print(\"A\") if a>b else print('B')\n"
   ]
  },
  {
   "cell_type": "code",
   "execution_count": 21,
   "id": "60f847c2-58b7-4a50-b060-0db88f3df4ea",
   "metadata": {},
   "outputs": [
    {
     "name": "stdout",
     "output_type": "stream",
     "text": [
      "A is big\n"
     ]
    }
   ],
   "source": [
    "a=10\n",
    "b=5\n",
    "c=7\n",
    "if a < b or a > c:\n",
    "    print(\"A is big\")\n",
    "else:\n",
    "    print(\"smaller\")"
   ]
  },
  {
   "cell_type": "code",
   "execution_count": 22,
   "id": "9c02fa1d-28e5-472d-9ccc-42b8e814a64f",
   "metadata": {},
   "outputs": [
    {
     "name": "stdout",
     "output_type": "stream",
     "text": [
      "Hello!\n"
     ]
    }
   ],
   "source": [
    "a=200\n",
    "b=33\n",
    "if b>a:\n",
    "    pass\n",
    "print(\"Hello!\")"
   ]
  },
  {
   "cell_type": "code",
   "execution_count": 25,
   "id": "30ab2959-4a88-444b-9d66-a091edbd9ef6",
   "metadata": {},
   "outputs": [
    {
     "name": "stdout",
     "output_type": "stream",
     "text": [
      "apple\n",
      "banana\n",
      "kiwi\n",
      "apple\n",
      "banana\n",
      "kiwi\n",
      "apple\n",
      "banana\n",
      "kiwi\n"
     ]
    },
    {
     "data": {
      "text/plain": [
       "[None, None, None]"
      ]
     },
     "execution_count": 25,
     "metadata": {},
     "output_type": "execute_result"
    }
   ],
   "source": [
    "#for loop\n",
    "\n",
    "fruits =['apple','banana','kiwi']\n",
    "for i in fruits:\n",
    "    print(i)\n",
    "for i in range(len(fruits)):\n",
    "    print(fruits[i])\n",
    "[print(i) for i in fruits]\n"
   ]
  },
  {
   "cell_type": "code",
   "execution_count": 31,
   "id": "56b8885c-6f90-4284-913c-a4af1f67cd09",
   "metadata": {},
   "outputs": [
    {
     "name": "stdout",
     "output_type": "stream",
     "text": [
      "apple\n",
      "banana\n"
     ]
    }
   ],
   "source": [
    "\n",
    "for x in fruits:\n",
    "    print(x)\n",
    "    if x==\"banana\":\n",
    "        break"
   ]
  },
  {
   "cell_type": "code",
   "execution_count": 36,
   "id": "2b43e03f-0f40-4ad4-855b-fe966f1b7e7a",
   "metadata": {},
   "outputs": [
    {
     "name": "stdout",
     "output_type": "stream",
     "text": [
      "1\n",
      "3\n",
      "5\n",
      "10 1\n"
     ]
    }
   ],
   "source": [
    "for x in range(1,6,2):\n",
    "    print(x)\n",
    "import random \n",
    "x=random.randint(1,10)\n",
    "y=random.randrange(1,10,3)\n",
    "print(x,y)"
   ]
  },
  {
   "cell_type": "code",
   "execution_count": 42,
   "id": "92f11869-1da6-45ad-a155-a1687f5cf7c9",
   "metadata": {},
   "outputs": [
    {
     "name": "stdout",
     "output_type": "stream",
     "text": [
      "Hello world\n",
      "Pratcice\n"
     ]
    }
   ],
   "source": [
    "# creating a function\n",
    "x=\"Pratcice\"\n",
    "def func():\n",
    "    print(\"Hello world\")\n",
    "    print(x)\n",
    "func()"
   ]
  },
  {
   "cell_type": "code",
   "execution_count": 47,
   "id": "f3d4bd62-7ef8-4e95-bd98-97a6f2e352e2",
   "metadata": {},
   "outputs": [
    {
     "name": "stdout",
     "output_type": "stream",
     "text": [
      "Hari H\n",
      "Shakthi H\n"
     ]
    }
   ],
   "source": [
    "fname='Hari'\n",
    "def my_func(fname):\n",
    "    print(fname+' H')\n",
    "my_func(fname)\n",
    "my_func('Shakthi')"
   ]
  },
  {
   "cell_type": "code",
   "execution_count": 52,
   "id": "3cc235dd-b8ec-47bb-990d-3fc6783adb6e",
   "metadata": {},
   "outputs": [
    {
     "name": "stdout",
     "output_type": "stream",
     "text": [
      "the youngest child is email\n"
     ]
    }
   ],
   "source": [
    "def my_func(*kids):\n",
    "    print('the youngest child is '+kids[0])\n",
    "my_func(\"email\",\"chat\")"
   ]
  },
  {
   "cell_type": "code",
   "execution_count": 53,
   "id": "efdb0402-b8bf-429f-a5ac-0864a90b5710",
   "metadata": {},
   "outputs": [
    {
     "name": "stdout",
     "output_type": "stream",
     "text": [
      "the child is ganesh\n"
     ]
    }
   ],
   "source": [
    "def my_func(*kids):\n",
    "    print('the child is '+kids[0])\n",
    "my_func('ganesh','shakthi')"
   ]
  },
  {
   "cell_type": "code",
   "execution_count": 56,
   "id": "7d32d675-0897-4054-99fa-7efa3af19c61",
   "metadata": {},
   "outputs": [
    {
     "name": "stdout",
     "output_type": "stream",
     "text": [
      "Ganesh shakthi\n"
     ]
    }
   ],
   "source": [
    "def my_func(first,second=\"shakthi\"):\n",
    "    print(first,second)\n",
    "my_func(first=\"Ganesh\")\n",
    "        "
   ]
  },
  {
   "cell_type": "code",
   "execution_count": 62,
   "id": "675cd483-d449-4409-88ee-e6beb4490cdc",
   "metadata": {},
   "outputs": [
    {
     "name": "stdout",
     "output_type": "stream",
     "text": [
      "<class 'set'>\n",
      "grapes\n",
      "apple\n"
     ]
    }
   ],
   "source": [
    "def my_func(food):\n",
    "    for x in food:\n",
    "        print(x)\n",
    "food={\"grapes\",\"apple\"}\n",
    "print(type(food))\n",
    "my_func(food)"
   ]
  },
  {
   "cell_type": "code",
   "execution_count": 63,
   "id": "609a011f-63d8-417d-95c0-6e8a62da1c6c",
   "metadata": {},
   "outputs": [
    {
     "name": "stdout",
     "output_type": "stream",
     "text": [
      "15\n"
     ]
    }
   ],
   "source": [
    "def my_func(x):\n",
    "    return 5*x\n",
    "print(my_func(3))"
   ]
  },
  {
   "cell_type": "code",
   "execution_count": 65,
   "id": "3dfab53a-cf6a-4835-9741-c4dacc43257f",
   "metadata": {},
   "outputs": [],
   "source": [
    "def my_func():\n",
    "    pass"
   ]
  },
  {
   "cell_type": "code",
   "execution_count": 1,
   "id": "49f2cfce-bb5c-4b79-97a1-13642df96a1c",
   "metadata": {},
   "outputs": [
    {
     "name": "stdout",
     "output_type": "stream",
     "text": [
      "1\n",
      "3\n",
      "6\n",
      "10\n",
      "15\n"
     ]
    },
    {
     "data": {
      "text/plain": [
       "15"
      ]
     },
     "execution_count": 1,
     "metadata": {},
     "output_type": "execute_result"
    }
   ],
   "source": [
    "# recursion in python\n",
    "def tri_recursion(k):\n",
    "    if k>0:\n",
    "        result = k+tri_recursion(k-1)\n",
    "        print(result)\n",
    "    else:\n",
    "        result =0\n",
    "    return result\n",
    "k=5\n",
    "tri_recursion(k)"
   ]
  },
  {
   "cell_type": "code",
   "execution_count": 5,
   "id": "29186a9c-eef2-4584-a8ad-4a7c427c069b",
   "metadata": {},
   "outputs": [
    {
     "name": "stdout",
     "output_type": "stream",
     "text": [
      "20\n",
      "50\n"
     ]
    }
   ],
   "source": [
    "#lambda evaluation\n",
    "x=lambda x:x+10\n",
    "print(x(10))\n",
    "x=lambda x,y:x*y\n",
    "print(x(10,5))"
   ]
  },
  {
   "cell_type": "code",
   "execution_count": 11,
   "id": "4d457607-049d-4cfc-9ca9-2da9627ab6ba",
   "metadata": {},
   "outputs": [
    {
     "name": "stdout",
     "output_type": "stream",
     "text": [
      "15\n"
     ]
    }
   ],
   "source": [
    "def my_func(x):\n",
    "    return lambda a:a+x\n",
    "a=my_func(10)\n",
    "print(a(5))"
   ]
  },
  {
   "cell_type": "code",
   "execution_count": 14,
   "id": "63bcdc4b-a521-4e22-9e6b-3e4983eda813",
   "metadata": {},
   "outputs": [
    {
     "name": "stdout",
     "output_type": "stream",
     "text": [
      "['ford', 'bmw', 'volvo']\n"
     ]
    }
   ],
   "source": [
    "# array\n",
    "\n",
    "cars =['ford','bmw','volvo']\n",
    "print(cars)"
   ]
  },
  {
   "cell_type": "code",
   "execution_count": 15,
   "id": "35b5c414-bf28-4584-8b38-bab5c9685522",
   "metadata": {},
   "outputs": [
    {
     "name": "stdout",
     "output_type": "stream",
     "text": [
      "3\n"
     ]
    }
   ],
   "source": [
    "x=len(cars)\n",
    "print(x)"
   ]
  },
  {
   "cell_type": "code",
   "execution_count": 17,
   "id": "2e5256cd-2278-4367-8f9b-2422883e746b",
   "metadata": {},
   "outputs": [
    {
     "name": "stdout",
     "output_type": "stream",
     "text": [
      "['ford', 'bmw', 'volvo', 'hyundai', 'hyundai']\n"
     ]
    }
   ],
   "source": [
    "cars.append(\"hyundai\")\n",
    "print(cars)"
   ]
  },
  {
   "cell_type": "code",
   "execution_count": 19,
   "id": "a192afc6-5673-4b15-a617-7b7735557063",
   "metadata": {},
   "outputs": [
    {
     "name": "stdout",
     "output_type": "stream",
     "text": [
      "['ford', 'bmw', 'volvo']\n",
      "['ford', 'bmw']\n"
     ]
    }
   ],
   "source": [
    "cars.pop()\n",
    "print(cars)\n",
    "cars.remove(\"volvo\")\n",
    "print(cars)"
   ]
  },
  {
   "cell_type": "code",
   "execution_count": 29,
   "id": "05118732-b592-47f1-a7ac-bc95571322e5",
   "metadata": {},
   "outputs": [
    {
     "name": "stdout",
     "output_type": "stream",
     "text": [
      "5\n"
     ]
    }
   ],
   "source": [
    "class Myclass:\n",
    "    x=5\n",
    "a=Myclass()\n",
    "print(a.x)\n"
   ]
  },
  {
   "cell_type": "code",
   "execution_count": 46,
   "id": "8f15fc5c-dd12-452b-b920-93ef082ece8e",
   "metadata": {},
   "outputs": [
    {
     "name": "stdout",
     "output_type": "stream",
     "text": [
      "john\n"
     ]
    }
   ],
   "source": [
    "class Myclass:\n",
    "    def __init__(self,fname,lname):\n",
    "        self.fname =fname\n",
    "        self.lname =lname\n",
    "    def my_func(self):\n",
    "        print(self.fname)\n",
    "class Student(Myclass):\n",
    "    def __init__(self,fname,lname):\n",
    "        super().__init__(fname,lname)\n",
    "        \n",
    "a=Student(\"john\",\"vijay\")\n",
    "a.my_func()"
   ]
  },
  {
   "cell_type": "code",
   "execution_count": 47,
   "id": "2a449262-5361-4ca4-a31a-954f78e0cbc2",
   "metadata": {},
   "outputs": [
    {
     "name": "stdout",
     "output_type": "stream",
     "text": [
      "ganesh\n"
     ]
    }
   ],
   "source": [
    "class Myclass:\n",
    "    def __init__(self,fname,lname):\n",
    "        self.fname=fname\n",
    "        self.lname=lname\n",
    "    def my_func(self):\n",
    "        print(self.fname)\n",
    "a=Myclass(\"ganesh\",\"h\")\n",
    "a.my_func()\n",
    "    "
   ]
  },
  {
   "cell_type": "code",
   "execution_count": 50,
   "id": "321cba0b-5d3d-40d4-ab8a-dc715495e77d",
   "metadata": {},
   "outputs": [
    {
     "name": "stdout",
     "output_type": "stream",
     "text": [
      "1\n",
      "2\n"
     ]
    }
   ],
   "source": [
    "#iterators\n",
    "my_tuple=(1,2,3)\n",
    "my_it =iter(my_tuple)\n",
    "print(next(my_it))\n",
    "print(next(my_it))"
   ]
  },
  {
   "cell_type": "code",
   "execution_count": 52,
   "id": "4f81cb91-17fe-46e5-9b4f-aa6ad97d5d13",
   "metadata": {},
   "outputs": [
    {
     "name": "stdout",
     "output_type": "stream",
     "text": [
      "2023-12-20 00:51:08.079400\n",
      "2023\n"
     ]
    }
   ],
   "source": [
    "import datetime\n",
    "x=datetime.datetime.now()\n",
    "print(x)\n",
    "print(x.year)\n"
   ]
  },
  {
   "cell_type": "code",
   "execution_count": 54,
   "id": "15061303-89f1-4ac3-8c0a-9a87ec81da21",
   "metadata": {},
   "outputs": [
    {
     "name": "stdout",
     "output_type": "stream",
     "text": [
      "1 3\n",
      "8\n"
     ]
    }
   ],
   "source": [
    "x=min(1,2,3)\n",
    "y=max(1,2,3)\n",
    "print(x,y)\n",
    "z=pow(2,3)\n",
    "print(z)"
   ]
  },
  {
   "cell_type": "code",
   "execution_count": 56,
   "id": "ad00ad2f-5f7b-45a4-a242-e33a17dc7bc2",
   "metadata": {},
   "outputs": [
    {
     "name": "stdout",
     "output_type": "stream",
     "text": [
      "8\n"
     ]
    }
   ],
   "source": [
    "import math\n",
    "a=math.sqrt(64)\n",
    "print(int(a))\n"
   ]
  },
  {
   "cell_type": "code",
   "execution_count": 64,
   "id": "1202c491-c85e-4b4f-b9a6-0b10cba30273",
   "metadata": {},
   "outputs": [
    {
     "name": "stdout",
     "output_type": "stream",
     "text": [
      "{'name': 'Ganesh', 'Age': 24}\n",
      "{\"name\": \"Ganesh\", \"Age\": 24}\n"
     ]
    }
   ],
   "source": [
    "# json library use\n",
    "import json\n",
    "x='{\"name\":\"Ganesh\",\"Age\":24}'\n",
    "y=json.loads(x)\n",
    "print(y)\n",
    "a={\"name\":\"Ganesh\",\"Age\":24}\n",
    "b=json.dumps(a)\n",
    "print(b)"
   ]
  },
  {
   "cell_type": "code",
   "execution_count": 1,
   "id": "51bb48f6-cbce-41e9-9e22-904b846b90fd",
   "metadata": {},
   "outputs": [
    {
     "name": "stdout",
     "output_type": "stream",
     "text": [
      "Hello World\n"
     ]
    }
   ],
   "source": [
    "import camelcase\n",
    "c=camelcase.CamelCase()\n",
    "txt=\"hello world\"\n",
    "print(c.hump(txt))"
   ]
  },
  {
   "cell_type": "code",
   "execution_count": 2,
   "id": "5f950cb2-e833-4be2-b09b-33445d585b14",
   "metadata": {},
   "outputs": [
    {
     "name": "stdout",
     "output_type": "stream",
     "text": [
      "x is not defined\n"
     ]
    }
   ],
   "source": [
    "try:\n",
    "    print(x)\n",
    "except NameError:\n",
    "    print(\"x is not defined\")\n",
    "except Exception as e:\n",
    "    print(e)"
   ]
  },
  {
   "cell_type": "code",
   "execution_count": null,
   "id": "201683c8-c294-4bb0-b92a-add4ff557312",
   "metadata": {},
   "outputs": [],
   "source": []
  }
 ],
 "metadata": {
  "kernelspec": {
   "display_name": "Python 3 (ipykernel)",
   "language": "python",
   "name": "python3"
  },
  "language_info": {
   "codemirror_mode": {
    "name": "ipython",
    "version": 3
   },
   "file_extension": ".py",
   "mimetype": "text/x-python",
   "name": "python",
   "nbconvert_exporter": "python",
   "pygments_lexer": "ipython3",
   "version": "3.8.10"
  }
 },
 "nbformat": 4,
 "nbformat_minor": 5
}
